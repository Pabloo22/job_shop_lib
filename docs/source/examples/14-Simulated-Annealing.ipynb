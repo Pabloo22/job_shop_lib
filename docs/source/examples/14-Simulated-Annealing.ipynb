{
 "cells": [
  {
   "cell_type": "markdown",
   "id": "4ce47179",
   "metadata": {},
   "source": [
    "## Simulated Annealing Example"
   ]
  },
  {
   "cell_type": "code",
   "execution_count": null,
   "id": "980e1ef2",
   "metadata": {},
   "outputs": [
    {
     "name": "stderr",
     "output_type": "stream",
     "text": [
      " Temperature        Energy    Accept   Improve     Elapsed   Remaining\n",
      "     0.00000        735.00                         0:00:00            \r"
     ]
    },
    {
     "name": "stderr",
     "output_type": "stream",
     "text": [
      "24000000000000000.00000       1811.00    37.10%    14.65%     0:00:34    -1:59:36"
     ]
    }
   ],
   "source": [
    "from job_shop_lib.benchmarking import load_benchmark_instance\n",
    "from job_shop_lib.metaheuristics import SimulatedAnnealingSolver\n",
    "\n",
    "# Load a benchmark instance\n",
    "instance = load_benchmark_instance(\"la01\")\n",
    "\n",
    "# Create a simulated annealing solver\n",
    "solver = SimulatedAnnealingSolver(\n",
    "    seed=42,\n",
    "    time_budget_in_minutes=1,\n",
    ")\n",
    "\n",
    "# Solve the instance\n",
    "solution = solver.solve(instance)\n",
    "print(\"Makespan of best solution found:\", solution.makespan())\n",
    "print(\"Optimal makespan:\", instance.metadata)"
   ]
  },
  {
   "cell_type": "code",
   "execution_count": null,
   "id": "32e6859d",
   "metadata": {},
   "outputs": [],
   "source": []
  }
 ],
 "metadata": {
  "kernelspec": {
   "display_name": "job-shop-lib-gOF0HMZJ-py3.12",
   "language": "python",
   "name": "python3"
  },
  "language_info": {
   "codemirror_mode": {
    "name": "ipython",
    "version": 3
   },
   "file_extension": ".py",
   "mimetype": "text/x-python",
   "name": "python",
   "nbconvert_exporter": "python",
   "pygments_lexer": "ipython3",
   "version": "3.12.3"
  }
 },
 "nbformat": 4,
 "nbformat_minor": 5
}
