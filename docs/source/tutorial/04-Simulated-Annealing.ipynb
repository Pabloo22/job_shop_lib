{
 "cells": [
  {
   "cell_type": "markdown",
   "id": "30015725",
   "metadata": {},
   "source": [
    "# Simulated Annealing for the Job Shop Scheduling Problem\n",
    "\n",
    "Simulated annealing is a metaheuristic optimization technique inspired by the process of annealing in metallurgy. In the context of the JSSP, it's used to find a schedule that minimizes a certain objective, typically the makespan (the total time required to complete all jobs).\n",
    "\n",
    "The process can be summarized as follows:\n",
    "\n",
    "1.  **Start with an initial solution:** We begin with a valid, but likely suboptimal, schedule. This initial solution can be generated using a simple heuristic, like a dispatching rule.\n",
    "2.  **Define an \"energy\" function:** In our case, the energy of a schedule is its makespan, plus penalties for any violated constraints (like deadlines). A lower energy means a better solution.\n",
    "3.  **Iteratively explore neighbors:** The algorithm then iteratively explores \"neighboring\" solutions. A neighbor is a new schedule created by making a small change to the current one, for example, by swapping the order of two operations on a single machine.\n",
    "4.  **Accept or reject new solutions:**\n",
    "      * If the neighbor solution has a lower energy (is better), it is always accepted as the new current solution.\n",
    "      * If the neighbor solution has a higher energy (is worse), it might still be accepted with a certain probability. This probability is higher at the beginning (when the \"temperature\" is high) and decreases over time. This allows the algorithm to escape local optima and explore a wider range of solutions.\n",
    "5.  **Cooling down:** The \"temperature\" gradually decreases, reducing the probability of accepting worse solutions. The process stops when the system has \"cooled down\" (the temperature is low) or after a certain number of iterations.\n",
    "\n",
    "## Core Components\n",
    "\n",
    "The implementation is structured into a few key components:\n",
    "\n",
    "  * **`SimulatedAnnealingSolver`:** This is the main high-level solver class that you will interact with. It wraps the core annealing logic and provides a simple `solve` method.\n",
    "  * **`JobShopAnnealer`:** This is a helper class that inherits from the `simanneal` library's `Annealer` class. It implements the core simulated annealing logic, including the `move` and `energy` functions.\n",
    "  * **Neighbor Generators:** These are functions that define how to create a \"neighbor\" schedule from a current one.\n",
    "  * **Objective Functions:** The `energy` function calculates the objective value of a schedule, which is typically the makespan plus any penalties for constraint violations.\n",
    "\n",
    "## The `SimulatedAnnealingSolver`\n",
    "\n",
    "This is the main entry point for using the solver. When you create an instance of this class, you can configure various parameters of the annealing process:\n",
    "\n",
    "  * `initial_temperature` (`Tmax`): The starting temperature. A higher value increases the initial probability of accepting worse solutions.\n",
    "  * `ending_temperature` (`Tmin`): The final temperature. The algorithm stops when it approaches this temperature.\n",
    "  * `steps`: The total number of iterations to run.\n",
    "  * `neighbor_generator`: The function used to generate neighboring solutions. The default is `swap_in_critical_path`.\n",
    "  * `seed`: A random seed for reproducibility.\n",
    "\n",
    "## Neighbor Generation Strategies\n",
    "\n",
    "A key part of the simulated annealing process is how you explore the solution space by moving from one solution to a \"neighbor\". This implementation provides three different neighbor generation strategies in `_neighbor_generators.py`:\n",
    "\n",
    "1.  **`swap_adjacent_operations`:** This function randomly selects a machine and swaps two adjacent operations in its sequence. This is a very localized search.\n",
    "\n",
    "2.  **`swap_random_operations`:** This function randomly selects a machine and swaps two *random* operations in its sequence. This allows for larger jumps in the solution space compared to adjacent swaps.\n",
    "\n",
    "3.  **`swap_in_critical_path` (Default):** This is the most sophisticated of the three. It identifies the critical path of the current schedule (the sequence of operations that determines the makespan) and looks for consecutive operations on that path that are on the same machine. It then swaps one of these pairs. The idea is that modifying the critical path is the most direct way to try to reduce the makespan. If no such pair exists, it falls back to a standard adjacent swap.\n",
    "\n",
    "## The Objective Function\n",
    "\n",
    "The objective function is what the simulated annealing algorithm tries to minimize. In the context of job shop scheduling, this is typically the makespan (the total time to complete all jobs) plus any penalties for violating constraints (like deadlines).\n",
    "\n",
    "## Examples\n",
    "\n",
    "Here are some examples of how to use the solver.\n",
    "\n",
    "### Basic Usage\n",
    "\n",
    "This example shows how to solve a benchmark instance (\"ft06\") with a specific seed to get a reproducible result."
   ]
  },
  {
   "cell_type": "code",
   "execution_count": 1,
   "id": "221594d9",
   "metadata": {},
   "outputs": [
    {
     "name": "stderr",
     "output_type": "stream",
     "text": [
      " Temperature        Energy    Accept   Improve     Elapsed   Remaining\n",
      "     2.50000         60.00    70.00%    20.00%     0:00:00     0:00:00"
     ]
    },
    {
     "name": "stdout",
     "output_type": "stream",
     "text": [
      "The makespan found for ft06 is: 55\n"
     ]
    }
   ],
   "source": [
    "from job_shop_lib.benchmarking import load_benchmark_instance\n",
    "from job_shop_lib.metaheuristics import SimulatedAnnealingSolver\n",
    "\n",
    "\n",
    "ft06_instance = load_benchmark_instance(\"ft06\")\n",
    "\n",
    "solver = SimulatedAnnealingSolver(\n",
    "    seed=42,  # Seed for reproducibility\n",
    "    initial_temperature=10,  # Low temperature --> more greedy search\n",
    "    steps=1000,  # The number of schedules to try before stopping\n",
    "    updates=100,  # How often the display table is updated\n",
    ")\n",
    "\n",
    "schedule = solver.solve(ft06_instance)\n",
    "makespan = schedule.makespan()\n",
    "print(f\"The makespan found for ft06 is: {makespan}\")"
   ]
  },
  {
   "cell_type": "markdown",
   "id": "f7e6ca60",
   "metadata": {},
   "source": [
    "### Using a Different Neighbor Generator\n",
    "\n",
    "Although it's not recommended, you can easily plug in a different neighbor generation strategy by passing it to the `SimulatedAnnealingSolver`'s constructor. Here's how to use `swap_adjacent_operations`:\n"
   ]
  },
  {
   "cell_type": "code",
   "execution_count": 2,
   "id": "3ad372ab",
   "metadata": {},
   "outputs": [
    {
     "name": "stderr",
     "output_type": "stream",
     "text": [
      " Temperature        Energy    Accept   Improve     Elapsed   Remaining\n",
      "     2.50000         67.00   100.00%    20.00%     0:00:01     0:00:00"
     ]
    },
    {
     "name": "stdout",
     "output_type": "stream",
     "text": [
      "The makespan for ft06 with adjacent swaps is: 61\n"
     ]
    }
   ],
   "source": [
    "from job_shop_lib.metaheuristics import swap_adjacent_operations\n",
    "\n",
    "# This time, we specify a different neighbor generator\n",
    "solver_adj_swap = SimulatedAnnealingSolver(\n",
    "    seed=42,\n",
    "    initial_temperature=10,\n",
    "    steps=1000,\n",
    "    updates=100,\n",
    "    neighbor_generator=swap_adjacent_operations,\n",
    ")\n",
    "\n",
    "schedule_adj_swap = solver_adj_swap.solve(ft06_instance)\n",
    "makespan_adj_swap = schedule_adj_swap.makespan()\n",
    "print(f\"The makespan for ft06 with adjacent swaps is: {makespan_adj_swap}\")"
   ]
  },
  {
   "cell_type": "markdown",
   "id": "304e13c0",
   "metadata": {},
   "source": [
    "Similarly, you can use `swap_random_operations`:"
   ]
  },
  {
   "cell_type": "code",
   "execution_count": 3,
   "id": "5a120c76",
   "metadata": {},
   "outputs": [
    {
     "name": "stderr",
     "output_type": "stream",
     "text": [
      " Temperature        Energy    Accept   Improve     Elapsed   Remaining\n",
      "     2.50000         70.00    50.00%     0.00%     0:00:04     0:00:00"
     ]
    },
    {
     "name": "stdout",
     "output_type": "stream",
     "text": [
      "The makespan for ft06 with random swaps is: 61\n"
     ]
    }
   ],
   "source": [
    "from job_shop_lib.metaheuristics import swap_random_operations\n",
    "\n",
    "solver_rand_swap = SimulatedAnnealingSolver(\n",
    "    seed=42,\n",
    "    initial_temperature=10,\n",
    "    steps=1000,\n",
    "    updates=100,\n",
    "    neighbor_generator=swap_random_operations,\n",
    ")\n",
    "schedule_rand_swap = solver_rand_swap.solve(ft06_instance)\n",
    "makespan_rand_swap = schedule_rand_swap.makespan()\n",
    "print(f\"The makespan for ft06 with random swaps is: {makespan_rand_swap}\")"
   ]
  },
  {
   "cell_type": "markdown",
   "id": "6b4bb5a8",
   "metadata": {},
   "source": [
    "In both cases, the algorithm doesn't find a better solution than the starting one (found with the Most Work Remaining dispatching rule). Additionally, while using these alternative neighbor generators, you may notice that each step takes longer to compute. This happens because swapping operations randomly often results in unfeasible schedules. If the schedule is invalid, the neighbor generator will try again until it finds a valid neighbor.\n",
    "\n",
    "We allow the possibility of customizing the neighbor generation strategy because for schedules with deadlines or due dates, the default `swap_in_critical_path` may not always yield the best results. In such cases, creating a custom neighbor generator that swaps operations that violate deadlines can be beneficial."
   ]
  },
  {
   "cell_type": "markdown",
   "id": "792f8c94",
   "metadata": {},
   "source": [
    "### Handling Deadlines\n",
    "\n",
    "In this section we illustrate how simulated annealing can improve a schedule when **deadlines** are present.\n",
    "\n",
    "We will:\n",
    "\n",
    "1. Generate a random 6x6 instance (6 jobs, 6 machines) with operation deadlines using the generation module.\n",
    "2. Build a baseline schedule with a dispatching rule (Most Work Remaining, for example).\n",
    "3. Count deadline violations in the baseline schedule.\n",
    "4. Use the `SimulatedAnnealingSolver` with a penalty-aware objective to reduce (ideally eliminate) violations. This may increase makespan but satisfies constraints.\n",
    "5. Compare before/after metrics (violations, makespan, objective value).\n",
    "\n",
    "Deadlines here are synthetic: for each job we accumulate processing times and assign each operation a deadline = cumulative_duration * 1.25 (rounded to int). You can adapt the strategy for your domain.\n",
    "\n",
    "Below we first construct the instance and a baseline schedule, then run Simulated Annealing that explicitly penalizes deadline violations. A large penalty coefficient strongly biases the search toward feasibility (meeting deadlines) even at the cost of a longer makespan.\n"
   ]
  },
  {
   "cell_type": "code",
   "execution_count": 23,
   "id": "91375a47",
   "metadata": {},
   "outputs": [
    {
     "name": "stderr",
     "output_type": "stream",
     "text": [
      " Temperature        Energy    Accept   Improve     Elapsed   Remaining\n",
      "  5266.12307      10084.00    43.80%    21.50%     0:00:00     0:00:01"
     ]
    },
    {
     "name": "stdout",
     "output_type": "stream",
     "text": [
      "JobShopInstance(name=generated_instance_0, num_jobs=6, num_machines=6)\n",
      "Baseline makespan: 86\n",
      "Baseline deadline violations: 9\n",
      "Optimal (CP-SAT) makespan: 84\n",
      "Optimal (CP-SAT) deadline violations: 0\n"
     ]
    },
    {
     "name": "stderr",
     "output_type": "stream",
     "text": [
      "     5.00000      10084.00     0.00%     0.00%     0:00:01     0:00:00"
     ]
    },
    {
     "name": "stdout",
     "output_type": "stream",
     "text": [
      "\n",
      "After Simulated Annealing:\n",
      "Improved makespan: 84\n",
      "Improved deadline violations: 0\n",
      "Improved objective (makespan + penalties): 84.0\n",
      "\n",
      "Comparative Summary:\n",
      "Baseline objective: 90086.0\n",
      "Optimal (CP-SAT) objective: 84.0\n",
      "Delta Baseline -> SA objective: -90002.0\n",
      "Delta SA -> Optimal objective: 0.0\n",
      "Delta Baseline -> SA makespan: -2\n",
      "Delta SA -> Optimal makespan: 0\n",
      "Deadline violations reduced ✅\n",
      "All deadlines met after annealing (feasible schedule obtained).\n"
     ]
    }
   ],
   "source": [
    "# Deadlines example: baseline vs simulated annealing\n",
    "import math\n",
    "from job_shop_lib.generation import (\n",
    "    modular_instance_generator,\n",
    "    get_default_machine_matrix_creator,\n",
    "    get_default_duration_matrix_creator,\n",
    ")\n",
    "from job_shop_lib.dispatching.rules import (\n",
    "    DispatchingRuleSolver,\n",
    "    most_work_remaining_rule,\n",
    ")\n",
    "from job_shop_lib.metaheuristics import (\n",
    "    SimulatedAnnealingSolver,\n",
    "    get_makespan_with_penalties_objective,\n",
    ")\n",
    "from job_shop_lib.constraint_programming import ORToolsSolver\n",
    "from job_shop_lib.exceptions import NoSolutionFoundError\n",
    "\n",
    "# 1. Create a 6x6 instance (fixed size) with synthetic deadlines\n",
    "SEED = 123\n",
    "NUM_JOBS = 6\n",
    "NUM_MACHINES = 6\n",
    "\n",
    "machine_creator = get_default_machine_matrix_creator(\n",
    "    size_selector=lambda rng: (NUM_JOBS, NUM_MACHINES),\n",
    "    with_recirculation=False,\n",
    ")\n",
    "# Durations between 2 and 15 to have some variability\n",
    "duration_creator = get_default_duration_matrix_creator((2, 15))\n",
    "\n",
    "\n",
    "def deadlines_creator(duration_matrix, rng):\n",
    "    deadlines: list[list[int]] = []\n",
    "    for job_row in duration_matrix:\n",
    "        cum = 0\n",
    "        row = []\n",
    "        for d in job_row:\n",
    "            cum += d\n",
    "            # 25% slack factor (matches markdown description)\n",
    "            row.append(int(math.ceil(cum * 2)))\n",
    "        deadlines.append(row)\n",
    "    return deadlines\n",
    "\n",
    "\n",
    "instance_gen = modular_instance_generator(\n",
    "    machine_matrix_creator=machine_creator,\n",
    "    duration_matrix_creator=duration_creator,\n",
    "    deadlines_matrix_creator=deadlines_creator,\n",
    "    seed=SEED,\n",
    ")\n",
    "for i, instance in enumerate(instance_gen):\n",
    "    # Compute a (near) perfect solution via CP-SAT for comparison\n",
    "    cp_solver = ORToolsSolver()\n",
    "    try:\n",
    "        perfect_schedule = cp_solver.solve(instance)\n",
    "        break\n",
    "    except NoSolutionFoundError:\n",
    "        print(f\"Instance {i} has no feasible solution, retrying...\")\n",
    "print(instance)\n",
    "\n",
    "# 2. Baseline schedule with a dispatching rule\n",
    "baseline_solver = DispatchingRuleSolver(\n",
    "    dispatching_rule=most_work_remaining_rule\n",
    ")\n",
    "baseline_schedule = baseline_solver.solve(instance)\n",
    "\n",
    "# Helper: count deadline violations\n",
    "\n",
    "\n",
    "def count_deadline_violations(schedule):\n",
    "    violations = 0\n",
    "    for machine_sched in schedule.schedule:\n",
    "        for s_op in machine_sched:\n",
    "            op = s_op.operation\n",
    "            if op.deadline is not None and s_op.end_time > op.deadline:\n",
    "                violations += 1\n",
    "    return violations\n",
    "\n",
    "\n",
    "baseline_makespan = baseline_schedule.makespan()\n",
    "baseline_violations = count_deadline_violations(baseline_schedule)\n",
    "print(f\"Baseline makespan: {baseline_makespan}\")\n",
    "print(f\"Baseline deadline violations: {baseline_violations}\")\n",
    "\n",
    "# Perfect (CP) reference\n",
    "perfect_makespan = perfect_schedule.makespan()\n",
    "perfect_violations = count_deadline_violations(perfect_schedule)\n",
    "print(f\"Optimal (CP-SAT) makespan: {perfect_makespan}\")\n",
    "print(f\"Optimal (CP-SAT) deadline violations: {perfect_violations}\")\n",
    "\n",
    "# 3. Simulated Annealing with penalty-aware objective\n",
    "objective = get_makespan_with_penalties_objective(\n",
    "    deadline_penalty_factor=10_000  # large => prioritize feasibility\n",
    ")\n",
    "sa_solver = SimulatedAnnealingSolver(\n",
    "    seed=SEED,\n",
    "    initial_temperature=30_000,  # moderate starting temperature\n",
    "    ending_temperature=5,  # cool down\n",
    "    steps=10_000,  # reasonable effort for tutorial\n",
    "    updates=10,\n",
    "    objective_function=objective,\n",
    ")\n",
    "\n",
    "improved_schedule = sa_solver.solve(instance, initial_state=baseline_schedule)\n",
    "improved_makespan = improved_schedule.makespan()\n",
    "improved_violations = count_deadline_violations(improved_schedule)\n",
    "\n",
    "# Objective values (makespan + penalties)\n",
    "baseline_objective = objective(baseline_schedule)\n",
    "improved_objective = objective(improved_schedule)\n",
    "perfect_objective = objective(perfect_schedule)\n",
    "\n",
    "print(\"\\nAfter Simulated Annealing:\")\n",
    "print(f\"Improved makespan: {improved_makespan}\")\n",
    "print(f\"Improved deadline violations: {improved_violations}\")\n",
    "print(f\"Improved objective (makespan + penalties): {improved_objective}\")\n",
    "\n",
    "# 4. Comparative summary vs baseline and optimal\n",
    "print(\"\\nComparative Summary:\")\n",
    "print(f\"Baseline objective: {baseline_objective}\")\n",
    "print(f\"Optimal (CP-SAT) objective: {perfect_objective}\")\n",
    "print(\n",
    "    f\"Delta Baseline -> SA objective: {improved_objective - baseline_objective}\"\n",
    ")\n",
    "print(\n",
    "    f\"Delta SA -> Optimal objective: {improved_objective - perfect_objective}\"\n",
    ")\n",
    "print(\n",
    "    f\"Delta Baseline -> SA makespan: {improved_makespan - baseline_makespan}\"\n",
    ")\n",
    "print(f\"Delta SA -> Optimal makespan: {improved_makespan - perfect_makespan}\")\n",
    "\n",
    "if improved_violations < baseline_violations:\n",
    "    print(\"Deadline violations reduced ✅\")\n",
    "elif improved_violations == baseline_violations:\n",
    "    print(\"No change in deadline violations\")\n",
    "else:\n",
    "    print(\"More violations (unexpected if penalty large)\")\n",
    "\n",
    "if improved_violations == 0 and baseline_violations > 0:\n",
    "    print(\"All deadlines met after annealing (feasible schedule obtained).\")\n",
    "\n",
    "if perfect_violations == 0 and improved_violations > 0:\n",
    "    print(\n",
    "        \"Note: CP-SAT met all deadlines while SA still has violations — consider higher penalty or more steps.\"\n",
    "    )"
   ]
  },
  {
   "cell_type": "markdown",
   "id": "519c7af9",
   "metadata": {},
   "source": [
    "Note that, in this case, we needed to use a higher initial temperature to effectively explore the solution space and reduce deadline violations. Otherwise, because of the high penalty, very few solutions would be accepted, hindering the search process. In general, the more violations we expect, the higher the initial temperature should be to allow the algorithm to explore a wider range of solutions."
   ]
  },
  {
   "cell_type": "markdown",
   "id": "51f0604d",
   "metadata": {},
   "source": []
  }
 ],
 "metadata": {
  "kernelspec": {
   "display_name": "job-shop-lib-gOF0HMZJ-py3.12",
   "language": "python",
   "name": "python3"
  },
  "language_info": {
   "codemirror_mode": {
    "name": "ipython",
    "version": 3
   },
   "file_extension": ".py",
   "mimetype": "text/x-python",
   "name": "python",
   "nbconvert_exporter": "python",
   "pygments_lexer": "ipython3",
   "version": "3.12.3"
  }
 },
 "nbformat": 4,
 "nbformat_minor": 5
}
